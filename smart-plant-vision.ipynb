{
 "cells": [
  {
   "cell_type": "code",
   "execution_count": 6,
   "id": "ff51c44f",
   "metadata": {},
   "outputs": [
    {
     "name": "stdout",
     "output_type": "stream",
     "text": [
      "Total images:  8189\n",
      "Training images:  1020\n",
      "Validation images:  1020\n",
      "Testing images:  6149\n"
     ]
    }
   ],
   "source": [
    "import os\n",
    "import numpy as np\n",
    "from scipy.io import loadmat\n",
    "from tqdm import tqdm\n",
    "import cv2\n",
    "\n",
    "label_data =  loadmat(\"data/labels/imagelabels.mat\")\n",
    "split_data = loadmat(\"data/labels/setid.mat\")\n",
    "\n",
    "labels = label_data['labels'][0]\n",
    "train_ids = split_data['trnid'][0]\n",
    "valid_ids = split_data['valid'][0]\n",
    "test_ids = split_data['tstid'][0]\n",
    "\n",
    "print(\"Total images: \", len(labels))\n",
    "print(\"Training images: \", len(train_ids))\n",
    "print(\"Validation images: \", len(valid_ids))\n",
    "print(\"Testing images: \", len(test_ids))"
   ]
  },
  {
   "cell_type": "code",
   "execution_count": 7,
   "id": "325294e4",
   "metadata": {},
   "outputs": [],
   "source": [
    "IMG_SIZE = 224\n",
    "IMG_FOLDER = \"data/flowers\"\n",
    "\n",
    "def load_and_preprocess_image(img_id):\n",
    "    filename = f\"image_{img_id:05d}.jpg\"\n",
    "    img_path = os.path.join(IMG_FOLDER, filename)\n",
    "\n",
    "    image = cv2.imread(img_path)\n",
    "    if image is None:\n",
    "        return None\n",
    "    \n",
    "    image = cv2.resize(image, (IMG_SIZE, IMG_SIZE))\n",
    "    image = cv2.cvtColor(image, cv2.COLOR_BGR2RGB)\n",
    "    image = image/255.0\n",
    "    return image.astype(np.float32)\n"
   ]
  },
  {
   "cell_type": "code",
   "execution_count": 8,
   "id": "486db307",
   "metadata": {},
   "outputs": [],
   "source": [
    "IMG_SIZE = 224\n",
    "IMG_FOLDER = \"data/flowers\"\n",
    "\n",
    "def load_and_preprocess_image(img_id):\n",
    "    filename = f\"image_{img_id:05d}.jpg\"\n",
    "    img_path = os.path.join(IMG_FOLDER, filename)\n",
    "\n",
    "    image = cv2.imread(img_path)\n",
    "    if image is None:\n",
    "        return None\n",
    "    \n",
    "    image = cv2.resize(image, (IMG_SIZE, IMG_SIZE))\n",
    "    image = cv2.cvtColor(image, cv2.COLOR_BGR2RGB)\n",
    "    image = image/255.0\n",
    "    return image.astype(np.float32)\n"
   ]
  },
  {
   "cell_type": "code",
   "execution_count": 10,
   "id": "c1ed77c1",
   "metadata": {},
   "outputs": [
    {
     "name": "stdout",
     "output_type": "stream",
     "text": [
      "Loading training images.....\n"
     ]
    },
    {
     "name": "stderr",
     "output_type": "stream",
     "text": [
      "100%|██████████| 1020/1020 [00:20<00:00, 48.94it/s]\n"
     ]
    },
    {
     "name": "stdout",
     "output_type": "stream",
     "text": [
      "X_train shape: (1020, 224, 224, 3)\n",
      "y_train shape (1020,)\n",
      "Loading validation images...\n"
     ]
    },
    {
     "name": "stderr",
     "output_type": "stream",
     "text": [
      "100%|██████████| 1020/1020 [00:19<00:00, 51.82it/s]\n"
     ]
    },
    {
     "name": "stdout",
     "output_type": "stream",
     "text": [
      "X_valid shape: (1020, 224, 224, 3)\n",
      "y_valid shape: (1020,)\n",
      "Loading test images...\n"
     ]
    },
    {
     "name": "stderr",
     "output_type": "stream",
     "text": [
      "100%|██████████| 6149/6149 [02:00<00:00, 51.09it/s]\n"
     ]
    },
    {
     "name": "stdout",
     "output_type": "stream",
     "text": [
      "X_test shape: (6149, 224, 224, 3)\n",
      "y_test shape: (6149,)\n"
     ]
    }
   ],
   "source": [
    "X_train = []\n",
    "y_train = []\n",
    "\n",
    "print(\"Loading training images.....\")\n",
    "for img_id in tqdm(train_ids):\n",
    "    img = load_and_preprocess_image(img_id)\n",
    "    if img is not None:\n",
    "        X_train.append(img)\n",
    "        y_train.append(labels[img_id-1])\n",
    "\n",
    "X_train = np.array(X_train)\n",
    "y_train = np.array(y_train)\n",
    "\n",
    "print(\"X_train shape:\",X_train.shape)\n",
    "print(\"y_train shape\", y_train.shape)\n",
    "\n",
    "X_valid =[]\n",
    "y_valid = []\n",
    "\n",
    "print(\"Loading validation images...\")\n",
    "for img_id in tqdm(valid_ids):\n",
    "    img = load_and_preprocess_image(img_id)\n",
    "    if img is not None:\n",
    "        X_valid.append(img)\n",
    "        y_valid.append(labels[img_id-1])\n",
    "\n",
    "X_valid = np.array(X_valid)\n",
    "y_valid = np.array(y_valid)\n",
    "\n",
    "\n",
    "print(\"X_valid shape:\",X_valid.shape)\n",
    "print(\"y_valid shape:\", y_valid.shape)\n",
    "\n",
    "X_test =[]\n",
    "y_test = []\n",
    "\n",
    "print(\"Loading test images...\")\n",
    "for img_id in tqdm(test_ids):\n",
    "    img = load_and_preprocess_image(img_id)\n",
    "    if img is not None:\n",
    "        X_test.append(img)\n",
    "        y_test.append(labels[img_id-1])\n",
    "\n",
    "X_test = np.array(X_test)\n",
    "y_test = np.array(y_test)\n",
    "\n",
    "print(\"X_test shape:\",X_test.shape)\n",
    "print(\"y_test shape:\", y_test.shape)\n"
   ]
  },
  {
   "cell_type": "code",
   "execution_count": 11,
   "id": "4e137297",
   "metadata": {},
   "outputs": [
    {
     "name": "stdout",
     "output_type": "stream",
     "text": [
      "y_train_cat shape: (1020, 102)\n"
     ]
    }
   ],
   "source": [
    "from sklearn.preprocessing import LabelEncoder\n",
    "from tensorflow.keras.utils import to_categorical\n",
    "le = LabelEncoder()\n",
    "\n",
    "# string labels into 0-101\n",
    "y_train_enc = le.fit_transform(y_train)\n",
    "y_valid_enc = le.transform(y_valid)\n",
    "y_test_enc = le.transform(y_test)\n",
    "\n",
    "# one-hot format for CNN model\n",
    "y_train_cat = to_categorical(y_train_enc)\n",
    "y_valid_cat = to_categorical(y_valid_enc)\n",
    "y_test_cat  = to_categorical(y_test_enc)\n",
    "\n",
    "print(\"y_train_cat shape:\", y_train_cat.shape)"
   ]
  },
  {
   "cell_type": "code",
   "execution_count": null,
   "id": "22862984",
   "metadata": {},
   "outputs": [
    {
     "ename": "NameError",
     "evalue": "name 'Dropout' is not defined",
     "output_type": "error",
     "traceback": [
      "\u001b[1;31m---------------------------------------------------------------------------\u001b[0m",
      "\u001b[1;31mNameError\u001b[0m                                 Traceback (most recent call last)",
      "Cell \u001b[1;32mIn[12], line 19\u001b[0m\n\u001b[0;32m     16\u001b[0m model\u001b[38;5;241m.\u001b[39madd(Flatten())\n\u001b[0;32m     18\u001b[0m model\u001b[38;5;241m.\u001b[39madd(Dense(\u001b[38;5;241m256\u001b[39m, activation\u001b[38;5;241m=\u001b[39m\u001b[38;5;124m'\u001b[39m\u001b[38;5;124mrelu\u001b[39m\u001b[38;5;124m'\u001b[39m))\n\u001b[1;32m---> 19\u001b[0m model\u001b[38;5;241m.\u001b[39madd(\u001b[43mDropout\u001b[49m(\u001b[38;5;241m0.5\u001b[39m))\n\u001b[0;32m     21\u001b[0m model\u001b[38;5;241m.\u001b[39madd(Dense(\u001b[38;5;241m102\u001b[39m, activation \u001b[38;5;241m=\u001b[39m \u001b[38;5;124m'\u001b[39m\u001b[38;5;124msoftmax\u001b[39m\u001b[38;5;124m'\u001b[39m))\n\u001b[0;32m     23\u001b[0m model\u001b[38;5;241m.\u001b[39mcompile(optimizer\u001b[38;5;241m=\u001b[39m\u001b[38;5;124m'\u001b[39m\u001b[38;5;124madam\u001b[39m\u001b[38;5;124m'\u001b[39m,\n\u001b[0;32m     24\u001b[0m               loss\u001b[38;5;241m=\u001b[39m\u001b[38;5;124m'\u001b[39m\u001b[38;5;124mcategorical_crossentropy\u001b[39m\u001b[38;5;124m'\u001b[39m,\n\u001b[0;32m     25\u001b[0m               metrics\u001b[38;5;241m=\u001b[39m[\u001b[38;5;124m'\u001b[39m\u001b[38;5;124maccuracy\u001b[39m\u001b[38;5;124m'\u001b[39m])\n",
      "\u001b[1;31mNameError\u001b[0m: name 'Dropout' is not defined"
     ]
    }
   ],
   "source": [
    "#Simple CNN from Scratch\n",
    "from tensorflow.keras.models import Sequential\n",
    "from tensorflow.keras .layers import Conv2D, MaxPooling2D, Flatten, Dense, Dropout\n",
    "\n",
    "model = Sequential()\n",
    "\n",
    "model.add(Conv2D(32,(3,3), activation = 'relu', input_shape = (224,224,3) ))\n",
    "model.add(MaxPooling2D(pool_size=(2,2)))\n",
    "\n",
    "model.add(Conv2D(64,(3,3), activation = 'relu'))\n",
    "model.add(MaxPooling2D(pool_size=(2,2)))\n",
    "\n",
    "model.add(Conv2D(128,(3,3), activation='relu'))\n",
    "model.add(MaxPooling2D(pool_size=(2,2)))\n",
    "\n",
    "model.add(Flatten())\n",
    "\n",
    "model.add(Dense(256, activation='relu'))\n",
    "model.add(Dropout(0.5))\n",
    "\n",
    "model.add(Dense(102, activation = 'softmax'))\n",
    "\n",
    "model.compile(optimizer='adam',\n",
    "              loss='categorical_crossentropy',\n",
    "              metrics=['accuracy'])\n",
    "\n",
    "model.summary()"
   ]
  }
 ],
 "metadata": {
  "kernelspec": {
   "display_name": "smartplant",
   "language": "python",
   "name": "python3"
  },
  "language_info": {
   "codemirror_mode": {
    "name": "ipython",
    "version": 3
   },
   "file_extension": ".py",
   "mimetype": "text/x-python",
   "name": "python",
   "nbconvert_exporter": "python",
   "pygments_lexer": "ipython3",
   "version": "3.10.18"
  }
 },
 "nbformat": 4,
 "nbformat_minor": 5
}
